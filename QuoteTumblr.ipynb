{
 "cells": [
  {
   "cell_type": "code",
   "execution_count": 37,
   "metadata": {
    "collapsed": false
   },
   "outputs": [],
   "source": [
    "import pytumblr\n",
    "import httplib, urllib, base64, urllib2, json\n",
    "import requests\n",
    "\n",
    "def img_tag_category_call(link):\n",
    "\tprint \"\\nFEATURES - TAGS AND CATEGORIES \\n\"\n",
    "\theaders = {\n",
    "\t'Content-Type': 'application/json',\n",
    "\t'Ocp-Apim-Subscription-Key': '3a39b0a8a4a14ce2b82f7688965a7a97',\n",
    "\t}\n",
    "\n",
    "\n",
    "\ttry:\n",
    "\t\turl = '{ \"url\" : \"' + link + '\"}'\n",
    "\t\tconn = httplib.HTTPSConnection('westcentralus.api.cognitive.microsoft.com')\n",
    "\t\tconn.request(\"POST\", \"/vision/v1.0/describe?maxCandidates=1\", url, headers)\n",
    "\t\tresponse = conn.getresponse()\n",
    "\t\tdata = response.read()\n",
    "\t\tconn.close()\n",
    "\t\treturn data\n",
    "\texcept Exception as e:\n",
    "\t\tprint(\"[Errno {0}] {1}\".format(e.errno, e.strerror))\n",
    "        \n",
    "def search_ocr_call(query):\n",
    "\tprint \"\\nQUERY SEARCH AND OCR API \\n\"\n",
    "\theaders = {\n",
    "\t\t'Content-Type': 'application/json',\n",
    "\t\t'Ocp-Apim-Subscription-Key': '6c41696fc79a4712a0a532cedf81d2be',\n",
    "\t}\n",
    "\tpayload = {'q': query}\n",
    "\tr = requests.get('https://api.cognitive.microsoft.com/bing/v5.0/search', params=payload,headers=headers)\n",
    "\tprint r.url\n",
    "\treturn r.json()\n",
    "\n",
    "client = pytumblr.TumblrRestClient('DaowyhPPqOeHzUX6Z8b1EFRD4bedEiuiNIXgEMq8q3tAWwA021')"
   ]
  },
  {
   "cell_type": "code",
   "execution_count": 44,
   "metadata": {
    "collapsed": false
   },
   "outputs": [
    {
     "name": "stdout",
     "output_type": "stream",
     "text": [
      "\n",
      "FEATURES - TAGS AND CATEGORIES \n",
      "\n"
     ]
    }
   ],
   "source": [
    "link=\"http://ste.india.com/sites/default/files/2016/11/10/545426-travel-ts.jpg\"\n",
    "dict= img_tag_category_call(link)\n"
   ]
  },
  {
   "cell_type": "code",
   "execution_count": 45,
   "metadata": {
    "collapsed": false
   },
   "outputs": [
    {
     "name": "stdout",
     "output_type": "stream",
     "text": [
      "[u'mountain', u'outdoor', u'nature', u'man', u'grass']\n",
      "We are now in the mountains and they are in us, kindling enthusiasm, making every nerve quiver, filling every pore and cell of us…\n",
      "------------------------------\n",
      "I am only a baby slowly learning my mountain alphabet.\n",
      "------------------------------\n",
      "Mountains are a cold and icy place\n",
      "\n",
      "for someone seeking\n",
      "\n",
      "fame and fortune, yet a haven\n",
      "\n",
      "for an empty-handed wanderer.\n",
      "------------------------------\n",
      "Reality often seems to have a harder edge in the mountains, as though the altitude somehow hones it, makes it spare, clean, raw, and honest - an addictive chaos of life that percolates through every atom.\n",
      "------------------------------\n",
      "Without wilderness, we will eventually lose the capacity to understand America.\n",
      "------------------------------\n",
      "The sun and the moon \n",
      "  Warped from balance \n",
      "\n",
      " \n",
      "Open palms, \n",
      "  burnt \n",
      "\n",
      "From catching broken stars\n",
      "------------------------------\n",
      "Nature is my manifestation of God. \n",
      "\n",
      "I go to nature every day for inspiration in the day’s work.\n",
      "------------------------------\n",
      "Everything in nature invites us constantly to be what we are.\n",
      "------------------------------\n",
      "The garden suggests there might be a place where we can meet nature halfway.\n",
      "------------------------------\n",
      "Nature inspires my everything. She inspires my solitude, and my writing and my art. She lifts me upon her welcoming wings and soars me through the sky of possibilities. She colors my day, brightens my soul, and calms my nights. She is fierce and beautiful, strong and delicate — an unrelenting Queen so generous of advice and never weary of new beginnings. In spring a colorful maiden, in winter a wise old lady, in autumn a looking-glass to my falling-leaf self, and summer a warm blossomed benefactor, comrade to the sun. A constant companion — sometimes indifferent, sometimes nuzzling me with her genial breezes and raining drops of heaven onto me.\n",
      "------------------------------\n",
      "The garden is a love song, a duet between a human being and \n",
      "\n",
      "Mother Nature.\n",
      "------------------------------\n",
      "Nature never rushes and yet she accomplishes the entire universe.\n",
      "------------------------------\n",
      "We need the tonic of wildness…We can never have enough of nature.\n",
      "------------------------------\n",
      "More trees, less assholes.\n",
      "------------------------------\n",
      "It takes a man to admit his wrong\n",
      "------------------------------\n",
      "有些姑娘，總把男人當成寶貝，結果發現，男人是越寵，就越不重視妳的。好男人通常並不會被人那麽喜歡，他們總是默默無聞，他們總是愛付出而不懂得索取。所以越壞的男人越受重視，越好的男人越被忽視。聰明的女人，都不會過分的去愛男人。因爲好男人，只愛把妳當寶貝。\n",
      "\n",
      "Some girls care their man too much. In the end, they realised that the more they care, the less attention the men would give. Good men are not that popular or favorable by others, they are unknown to people, and they are always the one who give, rather than receive.\n",
      "\n",
      "Bad men are always treasured, while good men are always unnoticed. Smart women are those who won’t love their men overly. Because good men are those who will only love you and care you like a baby. :)\n",
      "------------------------------\n",
      "BEING a real man doesn’t mean you sleep with 100 (or more) girls..\n",
      "\n",
      "It means you FIGHT for ONE girl even when 99 others are Chasing You\n",
      "------------------------------\n",
      "A creative man is motivated by the desire to achieve, not by the desire to beat others.\n",
      "------------------------------\n"
     ]
    }
   ],
   "source": [
    "data = json.loads(dict)\n",
    "tags= data['description']['tags']\n",
    "tags=tags[:5]\n",
    "print tags\n",
    "for tag in tags:\n",
    "    #print tag\n",
    "    #print \"\\n\\n\"\n",
    "    quote_data = client.tagged(tag+' quote', filter='text',limit=50)\n",
    "    for x in quote_data:\n",
    "        if (str(x['type']))=='quote':\n",
    "            print x['text']\n",
    "            print \"------------------------------\""
   ]
  },
  {
   "cell_type": "code",
   "execution_count": null,
   "metadata": {
    "collapsed": true
   },
   "outputs": [],
   "source": []
  }
 ],
 "metadata": {
  "anaconda-cloud": {},
  "kernelspec": {
   "display_name": "Python [default]",
   "language": "python",
   "name": "python2"
  },
  "language_info": {
   "codemirror_mode": {
    "name": "ipython",
    "version": 2
   },
   "file_extension": ".py",
   "mimetype": "text/x-python",
   "name": "python",
   "nbconvert_exporter": "python",
   "pygments_lexer": "ipython2",
   "version": "2.7.12"
  }
 },
 "nbformat": 4,
 "nbformat_minor": 1
}
