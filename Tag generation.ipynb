{
 "cells": [
  {
   "cell_type": "code",
   "execution_count": 31,
   "metadata": {
    "collapsed": false
   },
   "outputs": [],
   "source": [
    "import httplib, urllib, base64, urllib2, json\n",
    "import requests\n",
    "def img_tag_category_call(link):\n",
    "\tprint \"\\nFEATURES - TAGS AND CATEGORIES \\n\"\n",
    "\theaders = {\n",
    "\t'Content-Type': 'application/json',\n",
    "\t'Ocp-Apim-Subscription-Key': '3a39b0a8a4a14ce2b82f7688965a7a97',\n",
    "\t}\n",
    "\n",
    "\n",
    "\ttry:\n",
    "\t\turl = '{ \"url\" : \"' + link + '\"}'\n",
    "\t\tconn = httplib.HTTPSConnection('westcentralus.api.cognitive.microsoft.com')\n",
    "\t\tconn.request(\"POST\", \"/vision/v1.0/describe?maxCandidates=1\", url, headers)\n",
    "\t\tresponse = conn.getresponse()\n",
    "\t\tdata = response.read()\n",
    "\t\tconn.close()\n",
    "\t\treturn data\n",
    "\texcept Exception as e:\n",
    "\t\tprint(\"[Errno {0}] {1}\".format(e.errno, e.strerror))\n",
    "        \n",
    "def search_ocr_call(query):\n",
    "\tprint \"\\nQUERY SEARCH AND OCR API \\n\"\n",
    "\theaders = {\n",
    "\t\t'Content-Type': 'application/json',\n",
    "\t\t'Ocp-Apim-Subscription-Key': '6c41696fc79a4712a0a532cedf81d2be',\n",
    "\t}\n",
    "\tpayload = {'q': query}\n",
    "\tr = requests.get('https://api.cognitive.microsoft.com/bing/v5.0/search', params=payload,headers=headers)\n",
    "\tprint r.url\n",
    "\treturn r.json()"
   ]
  },
  {
   "cell_type": "code",
   "execution_count": 70,
   "metadata": {
    "collapsed": false
   },
   "outputs": [
    {
     "name": "stdout",
     "output_type": "stream",
     "text": [
      "\n",
      "FEATURES - TAGS AND CATEGORIES \n",
      "\n"
     ]
    }
   ],
   "source": [
    "link=\"https://ak2.picdn.net/shutterstock/videos/18999322/thumb/9.jpg\"\n",
    "dict= img_tag_category_call(link)\n",
    "#print (dict)"
   ]
  },
  {
   "cell_type": "code",
   "execution_count": 71,
   "metadata": {
    "collapsed": false
   },
   "outputs": [
    {
     "name": "stdout",
     "output_type": "stream",
     "text": [
      "[u'outdoor', u'raft', u'water', u'watercraft', u'transport', u'riding', u'man', u'river', u'small', u'people', u'ship', u'yellow', u'boat', u'child', u'surfing', u'wave', u'young', u'board', u'skiing', u'group', u'woman', u'little', u'body', u'traveling', u'snow', u'playing', u'holding', u'standing']\n"
     ]
    }
   ],
   "source": [
    "data = json.loads(dict)\n",
    "tags= data['description']['tags']\n",
    "print tags"
   ]
  },
  {
   "cell_type": "code",
   "execution_count": 62,
   "metadata": {
    "collapsed": false
   },
   "outputs": [
    {
     "name": "stdout",
     "output_type": "stream",
     "text": [
      "\n",
      "QUERY SEARCH AND OCR API \n",
      "\n",
      "https://api.cognitive.microsoft.com/bing/v5.0/search?q=outdoor%2Bquote\n"
     ]
    }
   ],
   "source": [
    "search= search_ocr_call(\"outdoor+quote\")"
   ]
  },
  {
   "cell_type": "code",
   "execution_count": 69,
   "metadata": {
    "collapsed": false
   },
   "outputs": [
    {
     "name": "stdout",
     "output_type": "stream",
     "text": [
      "[u'http://media-cache-ec0.pinimg.com/originals/8a/23/6f/8a236fdf27184c1c7c26342ff666e716.jpg', u'http://media-cache-ak0.pinimg.com/736x/9d/d5/26/9dd5268d182dbd2b3f18c2e358dd62fd.jpg', u'http://media-cache-ec0.pinimg.com/736x/cd/e3/8b/cde38b4ed18e886a9f4432d268fd0289.jpg']\n"
     ]
    }
   ],
   "source": [
    "url_list=[]\n",
    "for x in  search['images']['value']:\n",
    "    url_list.append(x['contentUrl'])\n",
    "    \n",
    "url_whole_list=url_list\n",
    "url_list=url_list[:3]\n",
    "print url_list"
   ]
  },
  {
   "cell_type": "code",
   "execution_count": 64,
   "metadata": {
    "collapsed": false
   },
   "outputs": [],
   "source": [
    "def OCR(link):\n",
    "\tprint \"\\nOCR READING \\n\"\n",
    "\theaders = {\n",
    "\t'Content-Type': 'application/json',\n",
    "\t'Ocp-Apim-Subscription-Key': '8638bcb773e242539b5a56929ee4c8ca',\n",
    "\t}\n",
    "\n",
    "\tparams = urllib.urlencode({\n",
    "\t\t'language': 'unk',\n",
    "        'detectOrientation': 'true'\n",
    "\t})\n",
    "\ttry:\n",
    "\t\turl = '{ \"url\" : \"' + link + '\"}'\n",
    "\t\tconn = httplib.HTTPSConnection('westcentralus.api.cognitive.microsoft.com')\n",
    "\t\tconn.request(\"POST\", \"/vision/v1.0/ocr?%s\" % params, url, headers)\n",
    "\t\tresponse = conn.getresponse()\n",
    "\t\tdata = response.read()\n",
    "\t\tconn.close()\n",
    "\t\treturn data\n",
    "\texcept Exception as e:\n",
    "\t\tprint e"
   ]
  },
  {
   "cell_type": "code",
   "execution_count": 66,
   "metadata": {
    "collapsed": false
   },
   "outputs": [
    {
     "name": "stdout",
     "output_type": "stream",
     "text": [
      "\n",
      "OCR READING \n",
      "\n",
      "\n",
      "OCR READING \n",
      "\n",
      "\n",
      "OCR READING \n",
      "\n",
      "\n",
      "OCR READING \n",
      "\n",
      "\n",
      "OCR READING \n",
      "\n",
      "\n",
      "OCR READING \n",
      "\n"
     ]
    }
   ],
   "source": [
    "output_list=\"\"\n",
    "for link in url_list:\n",
    "    ocr_data = OCR(link)\n",
    "    json_ocr_result = json.loads(ocr_data)\n",
    "    output = ''\n",
    "    for r in json_ocr_result['regions']:\n",
    "\t\t\t\tfor l in r['lines']:\n",
    "\t\t\t\t\tfor w in l['words']:\n",
    "\t\t\t\t\t\toutput += w['text']\n",
    "\t\t\t\t\t\toutput += \" \"\n",
    "    output_list = output_list + \"|\" + output"
   ]
  },
  {
   "cell_type": "code",
   "execution_count": 68,
   "metadata": {
    "collapsed": false
   },
   "outputs": [
    {
     "name": "stdout",
     "output_type": "stream",
     "text": [
      "|is ecz.. What you send out comes back. eukoor |u idoor I GO TO NATURE TO BE SOOTHED AND HEALED, AND TO HAVE MY SENSES PUT.IN TUNE ONCE MORE. |\"[VERYONE SHOULD IN -THOiE Q!Ltdoor ||www.wordsonimages.com |REAL FREEDOM LIES IN wilderness NOT IN CIVILIZATION. \n"
     ]
    }
   ],
   "source": [
    "output_list = output_list.encode(\"ascii\", \"ignore\")\n",
    "print output_list"
   ]
  },
  {
   "cell_type": "code",
   "execution_count": 72,
   "metadata": {
    "collapsed": false
   },
   "outputs": [
    {
     "ename": "NameError",
     "evalue": "name 'spellcheck' is not defined",
     "output_type": "error",
     "traceback": [
      "\u001b[0;31m---------------------------------------------------------------------------\u001b[0m",
      "\u001b[0;31mNameError\u001b[0m                                 Traceback (most recent call last)",
      "\u001b[0;32m<ipython-input-72-e713a318a135>\u001b[0m in \u001b[0;36m<module>\u001b[0;34m()\u001b[0m\n\u001b[0;32m----> 1\u001b[0;31m \u001b[0mquotes\u001b[0m \u001b[0;34m=\u001b[0m \u001b[0mspellcheck\u001b[0m\u001b[0;34m(\u001b[0m\u001b[0mstr\u001b[0m\u001b[0;34m(\u001b[0m\u001b[0moutput_list\u001b[0m\u001b[0;34m)\u001b[0m\u001b[0;34m)\u001b[0m\u001b[0;34m\u001b[0m\u001b[0m\n\u001b[0m",
      "\u001b[0;31mNameError\u001b[0m: name 'spellcheck' is not defined"
     ]
    }
   ],
   "source": [
    "quotes = spellcheck(str(output_list))"
   ]
  },
  {
   "cell_type": "code",
   "execution_count": 76,
   "metadata": {
    "collapsed": false
   },
   "outputs": [
    {
     "ename": "ImportError",
     "evalue": "No module named pytumblr",
     "output_type": "error",
     "traceback": [
      "\u001b[0;31m---------------------------------------------------------------------------\u001b[0m",
      "\u001b[0;31mImportError\u001b[0m                               Traceback (most recent call last)",
      "\u001b[0;32m<ipython-input-76-2bd62ca76921>\u001b[0m in \u001b[0;36m<module>\u001b[0;34m()\u001b[0m\n\u001b[0;32m----> 1\u001b[0;31m \u001b[0;32mimport\u001b[0m \u001b[0mpytumblr\u001b[0m\u001b[0;34m\u001b[0m\u001b[0m\n\u001b[0m\u001b[1;32m      2\u001b[0m \u001b[0mclient\u001b[0m \u001b[0;34m=\u001b[0m \u001b[0mpytumblr\u001b[0m\u001b[0;34m.\u001b[0m\u001b[0mTumblrRestClient\u001b[0m\u001b[0;34m(\u001b[0m\u001b[0;34m'DaowyhPPqOeHzUX6Z8b1EFRD4bedEiuiNIXgEMq8q3tAWwA021'\u001b[0m\u001b[0;34m)\u001b[0m\u001b[0;34m\u001b[0m\u001b[0m\n\u001b[1;32m      3\u001b[0m \u001b[0mclient\u001b[0m\u001b[0;34m.\u001b[0m\u001b[0mtagged\u001b[0m\u001b[0;34m(\u001b[0m\u001b[0;34m'travel quotes'\u001b[0m\u001b[0;34m,\u001b[0m \u001b[0mfilter\u001b[0m\u001b[0;34m=\u001b[0m\u001b[0;34m'text'\u001b[0m\u001b[0;34m)\u001b[0m\u001b[0;34m\u001b[0m\u001b[0m\n",
      "\u001b[0;31mImportError\u001b[0m: No module named pytumblr"
     ]
    }
   ],
   "source": [
    "import pytumblr\n",
    "client = pytumblr.TumblrRestClient('DaowyhPPqOeHzUX6Z8b1EFRD4bedEiuiNIXgEMq8q3tAWwA021')\n",
    "client.tagged('travel quotes', filter='text')\n"
   ]
  },
  {
   "cell_type": "code",
   "execution_count": null,
   "metadata": {
    "collapsed": true
   },
   "outputs": [],
   "source": []
  }
 ],
 "metadata": {
  "anaconda-cloud": {},
  "kernelspec": {
   "display_name": "Python [default]",
   "language": "python",
   "name": "python2"
  },
  "language_info": {
   "codemirror_mode": {
    "name": "ipython",
    "version": 2
   },
   "file_extension": ".py",
   "mimetype": "text/x-python",
   "name": "python",
   "nbconvert_exporter": "python",
   "pygments_lexer": "ipython2",
   "version": "2.7.12"
  }
 },
 "nbformat": 4,
 "nbformat_minor": 1
}
